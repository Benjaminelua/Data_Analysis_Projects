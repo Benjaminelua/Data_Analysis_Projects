{
 "cells": [
  {
   "cell_type": "code",
   "execution_count": 36,
   "id": "ea366f3a",
   "metadata": {},
   "outputs": [],
   "source": [
    "#Importing Libraries\n",
    "\n",
    "from bs4 import BeautifulSoup\n",
    "import requests\n",
    "import time \n",
    "import datetime\n",
    "import smtplib"
   ]
  },
  {
   "cell_type": "code",
   "execution_count": 37,
   "id": "9b604224",
   "metadata": {
    "scrolled": true
   },
   "outputs": [
    {
     "name": "stdout",
     "output_type": "stream",
     "text": [
      "\n",
      "                    Funny Got Data MIS Data Systems Business Analyst T-Shirt\n",
      "                   \n",
      "\n",
      "                     19 ratings\n",
      "                    \n",
      "\n",
      "                     Men\n",
      "                    \n"
     ]
    }
   ],
   "source": [
    "#Connecting to Websites\n",
    "\n",
    "URL = 'https://www.amazon.com/Funny-Data-Systems-Business-Analyst/dp/B07FNW9FGJ/ref=sr_1_3?dchild=1&keywords=data%2Banalyst%2Btshirt&qid=1626655184&sr=8-3&customId=B0752XJYNL&th=1'\n",
    "\n",
    "headers = {\"User-Agent\": \"Mozilla/5.0 (Windows NT 10.0; Win64; x64) AppleWebKit/537.36 (KHTML, like Gecko) Chrome/78.0.3904.108 Safari/537.36\", \"Accept-Encoding\":\"gzip, deflate\", \"Accept\":\"text/html,application/xhtml+xml,application/xml;q=0.9,*/*;q=0.8\", \"DNT\":\"1\",\"Connection\":\"close\", \"Upgrade-Insecure-Requests\":\"1\"}\n",
    "\n",
    "page = requests.get(URL, headers=headers)\n",
    "\n",
    "soup1 = BeautifulSoup(page.content, \"html.parser\")\n",
    "\n",
    "soup2 = BeautifulSoup(soup1.prettify(), \"html.parser\")\n",
    "\n",
    "Title = soup2.find(id ='productTitle').get_text()\n",
    "\n",
    "Rating = soup2.find(id =\"acrCustomerReviewText\").get_text()\n",
    "\n",
    "Fit_type = soup2.find(\"span\", class_=\"selection\").get_text() \n",
    "\n",
    "\n",
    "print(Title)\n",
    "print(Rating)\n",
    "print(Fit_type)\n",
    "\n"
   ]
  },
  {
   "cell_type": "code",
   "execution_count": 38,
   "id": "d3125d55",
   "metadata": {},
   "outputs": [
    {
     "name": "stdout",
     "output_type": "stream",
     "text": [
      "Funny Got Data MIS Data Systems Business Analyst T-Shirt\n",
      "19\n",
      "Men\n"
     ]
    }
   ],
   "source": [
    "#string the rating and title\n",
    "Rating = Rating.strip()[:2]\n",
    "Title = Title.strip()\n",
    "Fit_type = Fit_type.strip()\n",
    "\n",
    "print(Title)\n",
    "print(Rating)\n",
    "print(Fit_type)"
   ]
  },
  {
   "cell_type": "code",
   "execution_count": 39,
   "id": "d9691122",
   "metadata": {},
   "outputs": [
    {
     "name": "stdout",
     "output_type": "stream",
     "text": [
      "2024-01-17\n"
     ]
    }
   ],
   "source": [
    "# Create a Timestamp for your output to track when data was collected\n",
    "\n",
    "import datetime\n",
    "\n",
    "today = datetime.date.today()\n",
    "\n",
    "print(today)"
   ]
  },
  {
   "cell_type": "code",
   "execution_count": 41,
   "id": "87ae8534",
   "metadata": {},
   "outputs": [],
   "source": [
    "# Create CSV and write headers and data into the file\n",
    "\n",
    "import csv \n",
    "\n",
    "header = ['Title', 'Rating','Date', 'Gender']\n",
    "data = [Title, Rating, today, Fit_type]\n",
    "\n",
    "\n",
    "with open('AmazonWebScraperPractise.csv', 'w', newline='', encoding='UTF8') as f:\n",
    "    writer = csv.writer(f)\n",
    "    writer.writerow(header)\n",
    "    writer.writerow(data)"
   ]
  },
  {
   "cell_type": "code",
   "execution_count": 44,
   "id": "1ffbd4da",
   "metadata": {},
   "outputs": [
    {
     "name": "stdout",
     "output_type": "stream",
     "text": [
      "                                               Title  Rating        Date  \\\n",
      "0  Funny Got Data MIS Data Systems Business Analy...      19  2024-01-17   \n",
      "1  Funny Got Data MIS Data Systems Business Analy...      19  2024-01-17   \n",
      "\n",
      "  Gender  \n",
      "0    Men  \n",
      "1    Men  \n"
     ]
    }
   ],
   "source": [
    "import pandas as pd\n",
    "\n",
    "df =pd.read_csv(r\"C:\\Users\\user\\AmazonWebScraperPractise.csv\")\n",
    "\n",
    "print(df)"
   ]
  },
  {
   "cell_type": "code",
   "execution_count": 43,
   "id": "36f5fe68",
   "metadata": {},
   "outputs": [],
   "source": [
    "#Now we are appending data to the csv\n",
    "\n",
    "with open('AmazonWebScraperPractise.csv', 'a+', newline='', encoding='UTF8') as f:\n",
    "    writer = csv.writer(f)\n",
    "    writer.writerow(data)"
   ]
  },
  {
   "cell_type": "code",
   "execution_count": 46,
   "id": "d6198faa",
   "metadata": {},
   "outputs": [],
   "source": [
    "#Combine all of the above code into one function\n",
    "\n",
    "def check_rating():\n",
    "    URL = 'https://www.amazon.com/Funny-Data-Systems-Business-Analyst/dp/B07FNW9FGJ/ref=sr_1_3?dchild=1&keywords=data%2Banalyst%2Btshirt&qid=1626655184&sr=8-3&customId=B0752XJYNL&th=1'\n",
    "\n",
    "    headers = {\"User-Agent\": \"Mozilla/5.0 (Windows NT 10.0; Win64; x64) AppleWebKit/537.36 (KHTML, like Gecko) Chrome/78.0.3904.108 Safari/537.36\", \"Accept-Encoding\":\"gzip, deflate\", \"Accept\":\"text/html,application/xhtml+xml,application/xml;q=0.9,*/*;q=0.8\", \"DNT\":\"1\",\"Connection\":\"close\", \"Upgrade-Insecure-Requests\":\"1\"}\n",
    "\n",
    "    page = requests.get(URL, headers=headers)\n",
    "\n",
    "    soup1 = BeautifulSoup(page.content, \"html.parser\")\n",
    "\n",
    "    soup2 = BeautifulSoup(soup1.prettify(), \"html.parser\")\n",
    "\n",
    "    Title = soup2.find(id ='productTitle').get_text()\n",
    "\n",
    "    Rating = soup2.find(id =\"acrCustomerReviewText\").get_text()\n",
    "\n",
    "    Fit_type = soup2.find(\"span\", class_=\"selection\").get_text() \n",
    "\n",
    "    Rating = Rating.strip()[:2]\n",
    "    Title = Title.strip()\n",
    "    Fit_type = Fit_type.strip()\n",
    "\n",
    "    import datetime\n",
    "\n",
    "    today = datetime.date.today()\n",
    "    \n",
    "    import csv \n",
    "\n",
    "    header = ['Title', 'Rating','Date', 'Gender']\n",
    "    data = [Title, Rating, today, Fit_type]\n",
    "\n",
    "    with open('AmazonWebScraperPractise.csv', 'a+', newline='', encoding='UTF8') as f:\n",
    "        writer = csv.writer(f)\n",
    "        writer.writerow(data)"
   ]
  },
  {
   "cell_type": "code",
   "execution_count": null,
   "id": "a7f61d15",
   "metadata": {},
   "outputs": [],
   "source": [
    "# Runs check_rating after a set time and inputs data into your CSV\n",
    "\n",
    "while(True):\n",
    "    check_rating()\n",
    "    time.sleep(86400)"
   ]
  },
  {
   "cell_type": "code",
   "execution_count": 48,
   "id": "f8cae839",
   "metadata": {},
   "outputs": [
    {
     "name": "stdout",
     "output_type": "stream",
     "text": [
      "                                                Title  Rating        Date  \\\n",
      "0   Funny Got Data MIS Data Systems Business Analy...      19  2024-01-17   \n",
      "1   Funny Got Data MIS Data Systems Business Analy...      19  2024-01-17   \n",
      "2   Funny Got Data MIS Data Systems Business Analy...      19  2024-01-17   \n",
      "3   Funny Got Data MIS Data Systems Business Analy...      19  2024-01-17   \n",
      "4   Funny Got Data MIS Data Systems Business Analy...      19  2024-01-17   \n",
      "5   Funny Got Data MIS Data Systems Business Analy...      19  2024-01-17   \n",
      "6   Funny Got Data MIS Data Systems Business Analy...      19  2024-01-17   \n",
      "7   Funny Got Data MIS Data Systems Business Analy...      19  2024-01-17   \n",
      "8   Funny Got Data MIS Data Systems Business Analy...      19  2024-01-17   \n",
      "9   Funny Got Data MIS Data Systems Business Analy...      19  2024-01-17   \n",
      "10  Funny Got Data MIS Data Systems Business Analy...      19  2024-01-17   \n",
      "11  Funny Got Data MIS Data Systems Business Analy...      19  2024-01-17   \n",
      "\n",
      "   Gender  \n",
      "0     Men  \n",
      "1     Men  \n",
      "2     Men  \n",
      "3     Men  \n",
      "4     Men  \n",
      "5     Men  \n",
      "6     Men  \n",
      "7     Men  \n",
      "8     Men  \n",
      "9     Men  \n",
      "10    Men  \n",
      "11    Men  \n"
     ]
    }
   ],
   "source": [
    "import pandas as pd\n",
    "\n",
    "df =pd.read_csv(r\"C:\\Users\\user\\AmazonWebScraperPractise.csv\")\n",
    "\n",
    "print(df)"
   ]
  },
  {
   "cell_type": "code",
   "execution_count": null,
   "id": "c850e1ae",
   "metadata": {},
   "outputs": [],
   "source": []
  }
 ],
 "metadata": {
  "kernelspec": {
   "display_name": "Python 3 (ipykernel)",
   "language": "python",
   "name": "python3"
  },
  "language_info": {
   "codemirror_mode": {
    "name": "ipython",
    "version": 3
   },
   "file_extension": ".py",
   "mimetype": "text/x-python",
   "name": "python",
   "nbconvert_exporter": "python",
   "pygments_lexer": "ipython3",
   "version": "3.11.5"
  }
 },
 "nbformat": 4,
 "nbformat_minor": 5
}
